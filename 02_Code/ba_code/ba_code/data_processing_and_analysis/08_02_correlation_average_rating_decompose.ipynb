{
 "cells": [
  {
   "cell_type": "code",
   "execution_count": null,
   "id": "0694b47a",
   "metadata": {},
   "outputs": [],
   "source": [
    "import warnings\n",
    "warnings.filterwarnings('ignore')\n",
    "from ba_code.data_processing_and_analysis.data_analyzer import DataAnalyzer, AnalyzerOption, DecomposeOption\n",
    "from ba_code.data_processing_and_analysis.google_and_tripadvisor.restaurant_review_data_uri import \\\n",
    "    TripadvisorRestaurantReviewDataUri, GoogleRestaurantReviewDataUri, RestaurantReviewDataType\n",
    "from ba_code.data_processing_and_analysis.prognolite.prognolite_restaurant_constants import \\\n",
    "    Restaurant\n",
    "\n",
    "dataAnalyzer = DataAnalyzer()"
   ]
  },
  {
   "cell_type": "code",
   "execution_count": null,
   "id": "c06a689b",
   "metadata": {
    "scrolled": true
   },
   "outputs": [],
   "source": [
    "data_type = RestaurantReviewDataType.TRIPADVISOR_REVIEW\n",
    "time_period = \"Q\"\n",
    "# overall rating anfang vom monat <-> umsatzzahl ende vom monat  --> besserer vergleich da kunden zuerst rating sehen müssen\n",
    "rating_date_offset_in_months = -1\n",
    "decompose_option = DecomposeOption.RESIDUAL_PLUS_TREND\n",
    "\n",
    "# TODO: 1. get lineplots of all rest overall rating vs turnover\n",
    "dataAnalyzer.plot_for_all_restaurants(\n",
    "    analyzer_option=AnalyzerOption.AVERAGE_RATING_VS_AVERAGE_TURNOVER,\n",
    "    restaurant_review_data_type=data_type,\n",
    "    time_period=time_period,\n",
    "    rating_date_offset_in_months=rating_date_offset_in_months,\n",
    "    filter_corona_data=True,\n",
    "    decompose_option=decompose_option)\n",
    "\n",
    "dataAnalyzer.plot_for_all_restaurants(\n",
    "    analyzer_option=AnalyzerOption.AVERAGE_RATING_VS_AVERAGE_TURNOVER,\n",
    "    restaurant_review_data_type=data_type,\n",
    "    time_period=time_period,\n",
    "    rating_date_offset_in_months=rating_date_offset_in_months,\n",
    "    filter_corona_data=False,\n",
    "    decompose_option=decompose_option)\n",
    "\n",
    "# TODO: look at correlations overall rating vs turnover\n",
    "df_pearson_spearman_before_corona = dataAnalyzer.compute_correlation_for_all_restaurants(\n",
    "    analyzer_option=AnalyzerOption.AVERAGE_RATING_VS_AVERAGE_TURNOVER,\n",
    "    restaurant_review_data_type=data_type,\n",
    "    time_period=time_period,\n",
    "    rating_date_offset_in_months=rating_date_offset_in_months,\n",
    "    filter_corona_data=True,\n",
    "    decompose_option=decompose_option)\n",
    "\n",
    "df_pearson_spearman_with_corona = dataAnalyzer.compute_correlation_for_all_restaurants(\n",
    "    analyzer_option=AnalyzerOption.AVERAGE_RATING_VS_AVERAGE_TURNOVER,\n",
    "    restaurant_review_data_type=data_type,\n",
    "    time_period=time_period,\n",
    "    rating_date_offset_in_months=rating_date_offset_in_months,\n",
    "    filter_corona_data=False,\n",
    "    decompose_option=decompose_option)"
   ]
  },
  {
   "cell_type": "code",
   "execution_count": null,
   "id": "b88d8363",
   "metadata": {
    "scrolled": false
   },
   "outputs": [],
   "source": [
    "from IPython.core.display import display, HTML\n",
    "import pandas as pd\n",
    "\n",
    "#data = df_pearson_spearman #pd.DataFrame({\"A\":[1,2,3,4,5], \"B\":[10,20,30,40,50]})\n",
    "for restaurant in Restaurant:\n",
    "    picture_name_before_corona = DataAnalyzer.get_picture_name(restaurant, filter_corona_data=True)\n",
    "    \"\"\"\n",
    "    df_pearson_spearman_before_corona.loc[df_pearson_spearman_before_corona[\"restaurant_name\"] == picture_name_before_corona,'before_corona'] = \\\n",
    "        '<img src=\"{}\" alt=\"img\">'.format(picture_name_before_corona + \"-corr.png\")\n",
    "    \"\"\"\n",
    "    df_pearson_spearman_before_corona.loc[df_pearson_spearman_before_corona[\"restaurant_name\"] == picture_name_before_corona,'before_corona'] = \\\n",
    "    '<table><tr><td> <img src=\"{}\" alt=\"img\"></td></tr><tr><td> <img src=\"{}\" alt=\"img\"></td></tr></table>' \\\n",
    "    .format(\n",
    "        picture_name_before_corona + \"-lineplot.png\",\n",
    "        picture_name_before_corona + \"-corr.png\")\n",
    "\n",
    "    picture_name_with_corona = DataAnalyzer.get_picture_name(restaurant, filter_corona_data=False)\n",
    "    \"\"\"\n",
    "    df_pearson_spearman_with_corona.loc[df_pearson_spearman_with_corona[\"restaurant_name\"] == picture_name_with_corona,'with_corona'] = \\\n",
    "        '<img src=\"{}\" alt=\"img\">'.format(picture_name_with_corona + \"-corr.png\")\n",
    "    \"\"\"\n",
    "    df_pearson_spearman_with_corona.loc[df_pearson_spearman_with_corona[\"restaurant_name\"] == picture_name_with_corona,'with_corona'] = \\\n",
    "    '<table><tr><td> <img src=\"{}\" alt=\"img\"></td></tr><tr><td> <img src=\"{}\" alt=\"img\"></td></tr></table>' \\\n",
    "    .format(\n",
    "        picture_name_with_corona + \"-lineplot.png\",\n",
    "        picture_name_with_corona + \"-corr.png\")\n",
    "    \n",
    "df_pearson_spearman_before_corona[\"pearson_spearman\"] = \\\n",
    "    df_pearson_spearman_before_corona[\"pearson\"].map('${:,.2f}'.format).astype(str) + \", \" + df_pearson_spearman_before_corona[\"spearman\"].map('${:,.2f}'.format).astype(str)\n",
    "df_pearson_spearman_with_corona[\"pearson_spearman\"] = \\\n",
    "    df_pearson_spearman_with_corona[\"pearson\"].map('${:,.2f}'.format).astype(str) + \", \" + df_pearson_spearman_with_corona[\"spearman\"].map('${:,.2f}'.format).astype(str)\n",
    "df = pd.DataFrame({#\"restaurant_name\":[restaurant.value for restaurant in Restaurant],\n",
    "              \"pear_s_before\":df_pearson_spearman_before_corona[\"pearson_spearman\"].to_list(),\n",
    "              \"before_corona\":df_pearson_spearman_before_corona[\"before_corona\"].to_list(),\n",
    "              \"pear_s_with\":df_pearson_spearman_with_corona[\"pearson_spearman\"].to_list(),\n",
    "              \"with_corona\":df_pearson_spearman_with_corona[\"with_corona\"].to_list()})\n",
    "\n",
    "display(HTML(df.to_html(escape=False, index=False)))"
   ]
  },
  {
   "cell_type": "code",
   "execution_count": null,
   "id": "744230a9",
   "metadata": {},
   "outputs": [],
   "source": []
  }
 ],
 "metadata": {
  "kernelspec": {
   "display_name": "Python 3 (ipykernel)",
   "language": "python",
   "name": "python3"
  },
  "language_info": {
   "codemirror_mode": {
    "name": "ipython",
    "version": 3
   },
   "file_extension": ".py",
   "mimetype": "text/x-python",
   "name": "python",
   "nbconvert_exporter": "python",
   "pygments_lexer": "ipython3",
   "version": "3.8.6"
  }
 },
 "nbformat": 4,
 "nbformat_minor": 5
}
